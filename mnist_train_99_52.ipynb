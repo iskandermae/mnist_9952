{
  "nbformat": 4,
  "nbformat_minor": 0,
  "metadata": {
    "colab": {
      "name": "mnist-train-99.52.ipynb",
      "provenance": [],
      "collapsed_sections": [],
      "authorship_tag": "ABX9TyPpiWXbHPE4YnBmUMSb1+Ni"
    },
    "kernelspec": {
      "name": "python3",
      "display_name": "Python 3"
    },
    "accelerator": "GPU",
    "widgets": {
      "application/vnd.jupyter.widget-state+json": {
        "59ee9033d8714c8cb3cb157b2a9fad79": {
          "model_module": "@jupyter-widgets/controls",
          "model_name": "HBoxModel",
          "state": {
            "_view_name": "HBoxView",
            "_dom_classes": [],
            "_model_name": "HBoxModel",
            "_view_module": "@jupyter-widgets/controls",
            "_model_module_version": "1.5.0",
            "_view_count": null,
            "_view_module_version": "1.5.0",
            "box_style": "",
            "layout": "IPY_MODEL_658fe0c65d924c9bb5a976bbcd720791",
            "_model_module": "@jupyter-widgets/controls",
            "children": [
              "IPY_MODEL_b7ffe00b9d42458e843ad640e9487f4a",
              "IPY_MODEL_ed4306d6834d420fb326ca6fb01e74cc"
            ]
          }
        },
        "658fe0c65d924c9bb5a976bbcd720791": {
          "model_module": "@jupyter-widgets/base",
          "model_name": "LayoutModel",
          "state": {
            "_view_name": "LayoutView",
            "grid_template_rows": null,
            "right": null,
            "justify_content": null,
            "_view_module": "@jupyter-widgets/base",
            "overflow": null,
            "_model_module_version": "1.2.0",
            "_view_count": null,
            "flex_flow": null,
            "width": null,
            "min_width": null,
            "border": null,
            "align_items": null,
            "bottom": null,
            "_model_module": "@jupyter-widgets/base",
            "top": null,
            "grid_column": null,
            "overflow_y": null,
            "overflow_x": null,
            "grid_auto_flow": null,
            "grid_area": null,
            "grid_template_columns": null,
            "flex": null,
            "_model_name": "LayoutModel",
            "justify_items": null,
            "grid_row": null,
            "max_height": null,
            "align_content": null,
            "visibility": null,
            "align_self": null,
            "height": null,
            "min_height": null,
            "padding": null,
            "grid_auto_rows": null,
            "grid_gap": null,
            "max_width": null,
            "order": null,
            "_view_module_version": "1.2.0",
            "grid_template_areas": null,
            "object_position": null,
            "object_fit": null,
            "grid_auto_columns": null,
            "margin": null,
            "display": null,
            "left": null
          }
        },
        "b7ffe00b9d42458e843ad640e9487f4a": {
          "model_module": "@jupyter-widgets/controls",
          "model_name": "FloatProgressModel",
          "state": {
            "_view_name": "ProgressView",
            "style": "IPY_MODEL_6c7653aa48ee419eaea4ca9e8c443ad3",
            "_dom_classes": [],
            "description": "",
            "_model_name": "FloatProgressModel",
            "bar_style": "success",
            "max": 1,
            "_view_module": "@jupyter-widgets/controls",
            "_model_module_version": "1.5.0",
            "value": 1,
            "_view_count": null,
            "_view_module_version": "1.5.0",
            "orientation": "horizontal",
            "min": 0,
            "description_tooltip": null,
            "_model_module": "@jupyter-widgets/controls",
            "layout": "IPY_MODEL_b53f142fbfb04a66bf4856c9773651c9"
          }
        },
        "ed4306d6834d420fb326ca6fb01e74cc": {
          "model_module": "@jupyter-widgets/controls",
          "model_name": "HTMLModel",
          "state": {
            "_view_name": "HTMLView",
            "style": "IPY_MODEL_2d4409fd6db44488b11302de71cbde17",
            "_dom_classes": [],
            "description": "",
            "_model_name": "HTMLModel",
            "placeholder": "​",
            "_view_module": "@jupyter-widgets/controls",
            "_model_module_version": "1.5.0",
            "value": " 9920512/? [00:02&lt;00:00, 4337389.36it/s]",
            "_view_count": null,
            "_view_module_version": "1.5.0",
            "description_tooltip": null,
            "_model_module": "@jupyter-widgets/controls",
            "layout": "IPY_MODEL_a5beb76779dc406481fd5d7169baf018"
          }
        },
        "6c7653aa48ee419eaea4ca9e8c443ad3": {
          "model_module": "@jupyter-widgets/controls",
          "model_name": "ProgressStyleModel",
          "state": {
            "_view_name": "StyleView",
            "_model_name": "ProgressStyleModel",
            "description_width": "initial",
            "_view_module": "@jupyter-widgets/base",
            "_model_module_version": "1.5.0",
            "_view_count": null,
            "_view_module_version": "1.2.0",
            "bar_color": null,
            "_model_module": "@jupyter-widgets/controls"
          }
        },
        "b53f142fbfb04a66bf4856c9773651c9": {
          "model_module": "@jupyter-widgets/base",
          "model_name": "LayoutModel",
          "state": {
            "_view_name": "LayoutView",
            "grid_template_rows": null,
            "right": null,
            "justify_content": null,
            "_view_module": "@jupyter-widgets/base",
            "overflow": null,
            "_model_module_version": "1.2.0",
            "_view_count": null,
            "flex_flow": null,
            "width": null,
            "min_width": null,
            "border": null,
            "align_items": null,
            "bottom": null,
            "_model_module": "@jupyter-widgets/base",
            "top": null,
            "grid_column": null,
            "overflow_y": null,
            "overflow_x": null,
            "grid_auto_flow": null,
            "grid_area": null,
            "grid_template_columns": null,
            "flex": null,
            "_model_name": "LayoutModel",
            "justify_items": null,
            "grid_row": null,
            "max_height": null,
            "align_content": null,
            "visibility": null,
            "align_self": null,
            "height": null,
            "min_height": null,
            "padding": null,
            "grid_auto_rows": null,
            "grid_gap": null,
            "max_width": null,
            "order": null,
            "_view_module_version": "1.2.0",
            "grid_template_areas": null,
            "object_position": null,
            "object_fit": null,
            "grid_auto_columns": null,
            "margin": null,
            "display": null,
            "left": null
          }
        },
        "2d4409fd6db44488b11302de71cbde17": {
          "model_module": "@jupyter-widgets/controls",
          "model_name": "DescriptionStyleModel",
          "state": {
            "_view_name": "StyleView",
            "_model_name": "DescriptionStyleModel",
            "description_width": "",
            "_view_module": "@jupyter-widgets/base",
            "_model_module_version": "1.5.0",
            "_view_count": null,
            "_view_module_version": "1.2.0",
            "_model_module": "@jupyter-widgets/controls"
          }
        },
        "a5beb76779dc406481fd5d7169baf018": {
          "model_module": "@jupyter-widgets/base",
          "model_name": "LayoutModel",
          "state": {
            "_view_name": "LayoutView",
            "grid_template_rows": null,
            "right": null,
            "justify_content": null,
            "_view_module": "@jupyter-widgets/base",
            "overflow": null,
            "_model_module_version": "1.2.0",
            "_view_count": null,
            "flex_flow": null,
            "width": null,
            "min_width": null,
            "border": null,
            "align_items": null,
            "bottom": null,
            "_model_module": "@jupyter-widgets/base",
            "top": null,
            "grid_column": null,
            "overflow_y": null,
            "overflow_x": null,
            "grid_auto_flow": null,
            "grid_area": null,
            "grid_template_columns": null,
            "flex": null,
            "_model_name": "LayoutModel",
            "justify_items": null,
            "grid_row": null,
            "max_height": null,
            "align_content": null,
            "visibility": null,
            "align_self": null,
            "height": null,
            "min_height": null,
            "padding": null,
            "grid_auto_rows": null,
            "grid_gap": null,
            "max_width": null,
            "order": null,
            "_view_module_version": "1.2.0",
            "grid_template_areas": null,
            "object_position": null,
            "object_fit": null,
            "grid_auto_columns": null,
            "margin": null,
            "display": null,
            "left": null
          }
        },
        "df226a2f848848b99aee12449aa3e187": {
          "model_module": "@jupyter-widgets/controls",
          "model_name": "HBoxModel",
          "state": {
            "_view_name": "HBoxView",
            "_dom_classes": [],
            "_model_name": "HBoxModel",
            "_view_module": "@jupyter-widgets/controls",
            "_model_module_version": "1.5.0",
            "_view_count": null,
            "_view_module_version": "1.5.0",
            "box_style": "",
            "layout": "IPY_MODEL_831c5f4934bb49c08988c7d62783724b",
            "_model_module": "@jupyter-widgets/controls",
            "children": [
              "IPY_MODEL_e850d57416cc4a7ca4f8ab61f774382d",
              "IPY_MODEL_02ff2af479d649798a1cbcd92d7e9c6d"
            ]
          }
        },
        "831c5f4934bb49c08988c7d62783724b": {
          "model_module": "@jupyter-widgets/base",
          "model_name": "LayoutModel",
          "state": {
            "_view_name": "LayoutView",
            "grid_template_rows": null,
            "right": null,
            "justify_content": null,
            "_view_module": "@jupyter-widgets/base",
            "overflow": null,
            "_model_module_version": "1.2.0",
            "_view_count": null,
            "flex_flow": null,
            "width": null,
            "min_width": null,
            "border": null,
            "align_items": null,
            "bottom": null,
            "_model_module": "@jupyter-widgets/base",
            "top": null,
            "grid_column": null,
            "overflow_y": null,
            "overflow_x": null,
            "grid_auto_flow": null,
            "grid_area": null,
            "grid_template_columns": null,
            "flex": null,
            "_model_name": "LayoutModel",
            "justify_items": null,
            "grid_row": null,
            "max_height": null,
            "align_content": null,
            "visibility": null,
            "align_self": null,
            "height": null,
            "min_height": null,
            "padding": null,
            "grid_auto_rows": null,
            "grid_gap": null,
            "max_width": null,
            "order": null,
            "_view_module_version": "1.2.0",
            "grid_template_areas": null,
            "object_position": null,
            "object_fit": null,
            "grid_auto_columns": null,
            "margin": null,
            "display": null,
            "left": null
          }
        },
        "e850d57416cc4a7ca4f8ab61f774382d": {
          "model_module": "@jupyter-widgets/controls",
          "model_name": "FloatProgressModel",
          "state": {
            "_view_name": "ProgressView",
            "style": "IPY_MODEL_32ab8898b81047c5acebaa69a897291c",
            "_dom_classes": [],
            "description": "",
            "_model_name": "FloatProgressModel",
            "bar_style": "success",
            "max": 1,
            "_view_module": "@jupyter-widgets/controls",
            "_model_module_version": "1.5.0",
            "value": 1,
            "_view_count": null,
            "_view_module_version": "1.5.0",
            "orientation": "horizontal",
            "min": 0,
            "description_tooltip": null,
            "_model_module": "@jupyter-widgets/controls",
            "layout": "IPY_MODEL_1258ca09431245929e9ad3a6422954ad"
          }
        },
        "02ff2af479d649798a1cbcd92d7e9c6d": {
          "model_module": "@jupyter-widgets/controls",
          "model_name": "HTMLModel",
          "state": {
            "_view_name": "HTMLView",
            "style": "IPY_MODEL_2666efced790438089e2909f5403fbde",
            "_dom_classes": [],
            "description": "",
            "_model_name": "HTMLModel",
            "placeholder": "​",
            "_view_module": "@jupyter-widgets/controls",
            "_model_module_version": "1.5.0",
            "value": " 32768/? [00:00&lt;00:00, 59646.84it/s]",
            "_view_count": null,
            "_view_module_version": "1.5.0",
            "description_tooltip": null,
            "_model_module": "@jupyter-widgets/controls",
            "layout": "IPY_MODEL_1de7adecbe5d4b5c8d17030f65caf04d"
          }
        },
        "32ab8898b81047c5acebaa69a897291c": {
          "model_module": "@jupyter-widgets/controls",
          "model_name": "ProgressStyleModel",
          "state": {
            "_view_name": "StyleView",
            "_model_name": "ProgressStyleModel",
            "description_width": "initial",
            "_view_module": "@jupyter-widgets/base",
            "_model_module_version": "1.5.0",
            "_view_count": null,
            "_view_module_version": "1.2.0",
            "bar_color": null,
            "_model_module": "@jupyter-widgets/controls"
          }
        },
        "1258ca09431245929e9ad3a6422954ad": {
          "model_module": "@jupyter-widgets/base",
          "model_name": "LayoutModel",
          "state": {
            "_view_name": "LayoutView",
            "grid_template_rows": null,
            "right": null,
            "justify_content": null,
            "_view_module": "@jupyter-widgets/base",
            "overflow": null,
            "_model_module_version": "1.2.0",
            "_view_count": null,
            "flex_flow": null,
            "width": null,
            "min_width": null,
            "border": null,
            "align_items": null,
            "bottom": null,
            "_model_module": "@jupyter-widgets/base",
            "top": null,
            "grid_column": null,
            "overflow_y": null,
            "overflow_x": null,
            "grid_auto_flow": null,
            "grid_area": null,
            "grid_template_columns": null,
            "flex": null,
            "_model_name": "LayoutModel",
            "justify_items": null,
            "grid_row": null,
            "max_height": null,
            "align_content": null,
            "visibility": null,
            "align_self": null,
            "height": null,
            "min_height": null,
            "padding": null,
            "grid_auto_rows": null,
            "grid_gap": null,
            "max_width": null,
            "order": null,
            "_view_module_version": "1.2.0",
            "grid_template_areas": null,
            "object_position": null,
            "object_fit": null,
            "grid_auto_columns": null,
            "margin": null,
            "display": null,
            "left": null
          }
        },
        "2666efced790438089e2909f5403fbde": {
          "model_module": "@jupyter-widgets/controls",
          "model_name": "DescriptionStyleModel",
          "state": {
            "_view_name": "StyleView",
            "_model_name": "DescriptionStyleModel",
            "description_width": "",
            "_view_module": "@jupyter-widgets/base",
            "_model_module_version": "1.5.0",
            "_view_count": null,
            "_view_module_version": "1.2.0",
            "_model_module": "@jupyter-widgets/controls"
          }
        },
        "1de7adecbe5d4b5c8d17030f65caf04d": {
          "model_module": "@jupyter-widgets/base",
          "model_name": "LayoutModel",
          "state": {
            "_view_name": "LayoutView",
            "grid_template_rows": null,
            "right": null,
            "justify_content": null,
            "_view_module": "@jupyter-widgets/base",
            "overflow": null,
            "_model_module_version": "1.2.0",
            "_view_count": null,
            "flex_flow": null,
            "width": null,
            "min_width": null,
            "border": null,
            "align_items": null,
            "bottom": null,
            "_model_module": "@jupyter-widgets/base",
            "top": null,
            "grid_column": null,
            "overflow_y": null,
            "overflow_x": null,
            "grid_auto_flow": null,
            "grid_area": null,
            "grid_template_columns": null,
            "flex": null,
            "_model_name": "LayoutModel",
            "justify_items": null,
            "grid_row": null,
            "max_height": null,
            "align_content": null,
            "visibility": null,
            "align_self": null,
            "height": null,
            "min_height": null,
            "padding": null,
            "grid_auto_rows": null,
            "grid_gap": null,
            "max_width": null,
            "order": null,
            "_view_module_version": "1.2.0",
            "grid_template_areas": null,
            "object_position": null,
            "object_fit": null,
            "grid_auto_columns": null,
            "margin": null,
            "display": null,
            "left": null
          }
        },
        "763a4b4868d8468292ff3e7fb7191ef6": {
          "model_module": "@jupyter-widgets/controls",
          "model_name": "HBoxModel",
          "state": {
            "_view_name": "HBoxView",
            "_dom_classes": [],
            "_model_name": "HBoxModel",
            "_view_module": "@jupyter-widgets/controls",
            "_model_module_version": "1.5.0",
            "_view_count": null,
            "_view_module_version": "1.5.0",
            "box_style": "",
            "layout": "IPY_MODEL_4c91aa56742047578faee901aff27bf4",
            "_model_module": "@jupyter-widgets/controls",
            "children": [
              "IPY_MODEL_49d11706950a423e94218d3b1174925d",
              "IPY_MODEL_683c06c2c2a04f339e108141c4eccbb7"
            ]
          }
        },
        "4c91aa56742047578faee901aff27bf4": {
          "model_module": "@jupyter-widgets/base",
          "model_name": "LayoutModel",
          "state": {
            "_view_name": "LayoutView",
            "grid_template_rows": null,
            "right": null,
            "justify_content": null,
            "_view_module": "@jupyter-widgets/base",
            "overflow": null,
            "_model_module_version": "1.2.0",
            "_view_count": null,
            "flex_flow": null,
            "width": null,
            "min_width": null,
            "border": null,
            "align_items": null,
            "bottom": null,
            "_model_module": "@jupyter-widgets/base",
            "top": null,
            "grid_column": null,
            "overflow_y": null,
            "overflow_x": null,
            "grid_auto_flow": null,
            "grid_area": null,
            "grid_template_columns": null,
            "flex": null,
            "_model_name": "LayoutModel",
            "justify_items": null,
            "grid_row": null,
            "max_height": null,
            "align_content": null,
            "visibility": null,
            "align_self": null,
            "height": null,
            "min_height": null,
            "padding": null,
            "grid_auto_rows": null,
            "grid_gap": null,
            "max_width": null,
            "order": null,
            "_view_module_version": "1.2.0",
            "grid_template_areas": null,
            "object_position": null,
            "object_fit": null,
            "grid_auto_columns": null,
            "margin": null,
            "display": null,
            "left": null
          }
        },
        "49d11706950a423e94218d3b1174925d": {
          "model_module": "@jupyter-widgets/controls",
          "model_name": "FloatProgressModel",
          "state": {
            "_view_name": "ProgressView",
            "style": "IPY_MODEL_4d70d1dbbab84aa6ae15b3184149cc8f",
            "_dom_classes": [],
            "description": "",
            "_model_name": "FloatProgressModel",
            "bar_style": "success",
            "max": 1,
            "_view_module": "@jupyter-widgets/controls",
            "_model_module_version": "1.5.0",
            "value": 1,
            "_view_count": null,
            "_view_module_version": "1.5.0",
            "orientation": "horizontal",
            "min": 0,
            "description_tooltip": null,
            "_model_module": "@jupyter-widgets/controls",
            "layout": "IPY_MODEL_86e351c10ed64e8a9d5bc055b9de23e6"
          }
        },
        "683c06c2c2a04f339e108141c4eccbb7": {
          "model_module": "@jupyter-widgets/controls",
          "model_name": "HTMLModel",
          "state": {
            "_view_name": "HTMLView",
            "style": "IPY_MODEL_ff5700c6ceb242a7a4ede3db9ed565d5",
            "_dom_classes": [],
            "description": "",
            "_model_name": "HTMLModel",
            "placeholder": "​",
            "_view_module": "@jupyter-widgets/controls",
            "_model_module_version": "1.5.0",
            "value": " 1654784/? [00:00&lt;00:00, 3487031.22it/s]",
            "_view_count": null,
            "_view_module_version": "1.5.0",
            "description_tooltip": null,
            "_model_module": "@jupyter-widgets/controls",
            "layout": "IPY_MODEL_b19e5368a637403381957daab15cef73"
          }
        },
        "4d70d1dbbab84aa6ae15b3184149cc8f": {
          "model_module": "@jupyter-widgets/controls",
          "model_name": "ProgressStyleModel",
          "state": {
            "_view_name": "StyleView",
            "_model_name": "ProgressStyleModel",
            "description_width": "initial",
            "_view_module": "@jupyter-widgets/base",
            "_model_module_version": "1.5.0",
            "_view_count": null,
            "_view_module_version": "1.2.0",
            "bar_color": null,
            "_model_module": "@jupyter-widgets/controls"
          }
        },
        "86e351c10ed64e8a9d5bc055b9de23e6": {
          "model_module": "@jupyter-widgets/base",
          "model_name": "LayoutModel",
          "state": {
            "_view_name": "LayoutView",
            "grid_template_rows": null,
            "right": null,
            "justify_content": null,
            "_view_module": "@jupyter-widgets/base",
            "overflow": null,
            "_model_module_version": "1.2.0",
            "_view_count": null,
            "flex_flow": null,
            "width": null,
            "min_width": null,
            "border": null,
            "align_items": null,
            "bottom": null,
            "_model_module": "@jupyter-widgets/base",
            "top": null,
            "grid_column": null,
            "overflow_y": null,
            "overflow_x": null,
            "grid_auto_flow": null,
            "grid_area": null,
            "grid_template_columns": null,
            "flex": null,
            "_model_name": "LayoutModel",
            "justify_items": null,
            "grid_row": null,
            "max_height": null,
            "align_content": null,
            "visibility": null,
            "align_self": null,
            "height": null,
            "min_height": null,
            "padding": null,
            "grid_auto_rows": null,
            "grid_gap": null,
            "max_width": null,
            "order": null,
            "_view_module_version": "1.2.0",
            "grid_template_areas": null,
            "object_position": null,
            "object_fit": null,
            "grid_auto_columns": null,
            "margin": null,
            "display": null,
            "left": null
          }
        },
        "ff5700c6ceb242a7a4ede3db9ed565d5": {
          "model_module": "@jupyter-widgets/controls",
          "model_name": "DescriptionStyleModel",
          "state": {
            "_view_name": "StyleView",
            "_model_name": "DescriptionStyleModel",
            "description_width": "",
            "_view_module": "@jupyter-widgets/base",
            "_model_module_version": "1.5.0",
            "_view_count": null,
            "_view_module_version": "1.2.0",
            "_model_module": "@jupyter-widgets/controls"
          }
        },
        "b19e5368a637403381957daab15cef73": {
          "model_module": "@jupyter-widgets/base",
          "model_name": "LayoutModel",
          "state": {
            "_view_name": "LayoutView",
            "grid_template_rows": null,
            "right": null,
            "justify_content": null,
            "_view_module": "@jupyter-widgets/base",
            "overflow": null,
            "_model_module_version": "1.2.0",
            "_view_count": null,
            "flex_flow": null,
            "width": null,
            "min_width": null,
            "border": null,
            "align_items": null,
            "bottom": null,
            "_model_module": "@jupyter-widgets/base",
            "top": null,
            "grid_column": null,
            "overflow_y": null,
            "overflow_x": null,
            "grid_auto_flow": null,
            "grid_area": null,
            "grid_template_columns": null,
            "flex": null,
            "_model_name": "LayoutModel",
            "justify_items": null,
            "grid_row": null,
            "max_height": null,
            "align_content": null,
            "visibility": null,
            "align_self": null,
            "height": null,
            "min_height": null,
            "padding": null,
            "grid_auto_rows": null,
            "grid_gap": null,
            "max_width": null,
            "order": null,
            "_view_module_version": "1.2.0",
            "grid_template_areas": null,
            "object_position": null,
            "object_fit": null,
            "grid_auto_columns": null,
            "margin": null,
            "display": null,
            "left": null
          }
        },
        "1814cbca66554c63801acb30d692a88f": {
          "model_module": "@jupyter-widgets/controls",
          "model_name": "HBoxModel",
          "state": {
            "_view_name": "HBoxView",
            "_dom_classes": [],
            "_model_name": "HBoxModel",
            "_view_module": "@jupyter-widgets/controls",
            "_model_module_version": "1.5.0",
            "_view_count": null,
            "_view_module_version": "1.5.0",
            "box_style": "",
            "layout": "IPY_MODEL_5541b54ec93549af8d810a45781788e0",
            "_model_module": "@jupyter-widgets/controls",
            "children": [
              "IPY_MODEL_13607f6b9d8e439a998489882bcbe45b",
              "IPY_MODEL_3ebb20a45011482e8cd0c9f6f72ce019"
            ]
          }
        },
        "5541b54ec93549af8d810a45781788e0": {
          "model_module": "@jupyter-widgets/base",
          "model_name": "LayoutModel",
          "state": {
            "_view_name": "LayoutView",
            "grid_template_rows": null,
            "right": null,
            "justify_content": null,
            "_view_module": "@jupyter-widgets/base",
            "overflow": null,
            "_model_module_version": "1.2.0",
            "_view_count": null,
            "flex_flow": null,
            "width": null,
            "min_width": null,
            "border": null,
            "align_items": null,
            "bottom": null,
            "_model_module": "@jupyter-widgets/base",
            "top": null,
            "grid_column": null,
            "overflow_y": null,
            "overflow_x": null,
            "grid_auto_flow": null,
            "grid_area": null,
            "grid_template_columns": null,
            "flex": null,
            "_model_name": "LayoutModel",
            "justify_items": null,
            "grid_row": null,
            "max_height": null,
            "align_content": null,
            "visibility": null,
            "align_self": null,
            "height": null,
            "min_height": null,
            "padding": null,
            "grid_auto_rows": null,
            "grid_gap": null,
            "max_width": null,
            "order": null,
            "_view_module_version": "1.2.0",
            "grid_template_areas": null,
            "object_position": null,
            "object_fit": null,
            "grid_auto_columns": null,
            "margin": null,
            "display": null,
            "left": null
          }
        },
        "13607f6b9d8e439a998489882bcbe45b": {
          "model_module": "@jupyter-widgets/controls",
          "model_name": "FloatProgressModel",
          "state": {
            "_view_name": "ProgressView",
            "style": "IPY_MODEL_c60a442cbac54bc69cb22717f48ecb82",
            "_dom_classes": [],
            "description": "",
            "_model_name": "FloatProgressModel",
            "bar_style": "success",
            "max": 1,
            "_view_module": "@jupyter-widgets/controls",
            "_model_module_version": "1.5.0",
            "value": 1,
            "_view_count": null,
            "_view_module_version": "1.5.0",
            "orientation": "horizontal",
            "min": 0,
            "description_tooltip": null,
            "_model_module": "@jupyter-widgets/controls",
            "layout": "IPY_MODEL_272d5b47a1e44404883ad2c7a4d69852"
          }
        },
        "3ebb20a45011482e8cd0c9f6f72ce019": {
          "model_module": "@jupyter-widgets/controls",
          "model_name": "HTMLModel",
          "state": {
            "_view_name": "HTMLView",
            "style": "IPY_MODEL_b37cfc2af7f14bd9907aaa1edbd31d6f",
            "_dom_classes": [],
            "description": "",
            "_model_name": "HTMLModel",
            "placeholder": "​",
            "_view_module": "@jupyter-widgets/controls",
            "_model_module_version": "1.5.0",
            "value": " 8192/? [00:00&lt;00:00, 31103.17it/s]",
            "_view_count": null,
            "_view_module_version": "1.5.0",
            "description_tooltip": null,
            "_model_module": "@jupyter-widgets/controls",
            "layout": "IPY_MODEL_e7c7b1d060284bb59d43700655d81b56"
          }
        },
        "c60a442cbac54bc69cb22717f48ecb82": {
          "model_module": "@jupyter-widgets/controls",
          "model_name": "ProgressStyleModel",
          "state": {
            "_view_name": "StyleView",
            "_model_name": "ProgressStyleModel",
            "description_width": "initial",
            "_view_module": "@jupyter-widgets/base",
            "_model_module_version": "1.5.0",
            "_view_count": null,
            "_view_module_version": "1.2.0",
            "bar_color": null,
            "_model_module": "@jupyter-widgets/controls"
          }
        },
        "272d5b47a1e44404883ad2c7a4d69852": {
          "model_module": "@jupyter-widgets/base",
          "model_name": "LayoutModel",
          "state": {
            "_view_name": "LayoutView",
            "grid_template_rows": null,
            "right": null,
            "justify_content": null,
            "_view_module": "@jupyter-widgets/base",
            "overflow": null,
            "_model_module_version": "1.2.0",
            "_view_count": null,
            "flex_flow": null,
            "width": null,
            "min_width": null,
            "border": null,
            "align_items": null,
            "bottom": null,
            "_model_module": "@jupyter-widgets/base",
            "top": null,
            "grid_column": null,
            "overflow_y": null,
            "overflow_x": null,
            "grid_auto_flow": null,
            "grid_area": null,
            "grid_template_columns": null,
            "flex": null,
            "_model_name": "LayoutModel",
            "justify_items": null,
            "grid_row": null,
            "max_height": null,
            "align_content": null,
            "visibility": null,
            "align_self": null,
            "height": null,
            "min_height": null,
            "padding": null,
            "grid_auto_rows": null,
            "grid_gap": null,
            "max_width": null,
            "order": null,
            "_view_module_version": "1.2.0",
            "grid_template_areas": null,
            "object_position": null,
            "object_fit": null,
            "grid_auto_columns": null,
            "margin": null,
            "display": null,
            "left": null
          }
        },
        "b37cfc2af7f14bd9907aaa1edbd31d6f": {
          "model_module": "@jupyter-widgets/controls",
          "model_name": "DescriptionStyleModel",
          "state": {
            "_view_name": "StyleView",
            "_model_name": "DescriptionStyleModel",
            "description_width": "",
            "_view_module": "@jupyter-widgets/base",
            "_model_module_version": "1.5.0",
            "_view_count": null,
            "_view_module_version": "1.2.0",
            "_model_module": "@jupyter-widgets/controls"
          }
        },
        "e7c7b1d060284bb59d43700655d81b56": {
          "model_module": "@jupyter-widgets/base",
          "model_name": "LayoutModel",
          "state": {
            "_view_name": "LayoutView",
            "grid_template_rows": null,
            "right": null,
            "justify_content": null,
            "_view_module": "@jupyter-widgets/base",
            "overflow": null,
            "_model_module_version": "1.2.0",
            "_view_count": null,
            "flex_flow": null,
            "width": null,
            "min_width": null,
            "border": null,
            "align_items": null,
            "bottom": null,
            "_model_module": "@jupyter-widgets/base",
            "top": null,
            "grid_column": null,
            "overflow_y": null,
            "overflow_x": null,
            "grid_auto_flow": null,
            "grid_area": null,
            "grid_template_columns": null,
            "flex": null,
            "_model_name": "LayoutModel",
            "justify_items": null,
            "grid_row": null,
            "max_height": null,
            "align_content": null,
            "visibility": null,
            "align_self": null,
            "height": null,
            "min_height": null,
            "padding": null,
            "grid_auto_rows": null,
            "grid_gap": null,
            "max_width": null,
            "order": null,
            "_view_module_version": "1.2.0",
            "grid_template_areas": null,
            "object_position": null,
            "object_fit": null,
            "grid_auto_columns": null,
            "margin": null,
            "display": null,
            "left": null
          }
        }
      }
    }
  },
  "cells": [
    {
      "cell_type": "code",
      "metadata": {
        "id": "630iOJK0KnOW"
      },
      "source": [
        "import numpy as np\r\n",
        "import torch\r\n",
        "import torch.utils.data\r\n",
        "from torch import nn, optim\r\n",
        "import torch.nn.functional as F\r\n",
        "import torchvision.datasets as datasets\r\n",
        "from torchvision import transforms\r\n",
        "import torchvision.utils\r\n",
        "import matplotlib.pyplot as plt\r\n",
        "import PIL"
      ],
      "execution_count": 1,
      "outputs": []
    },
    {
      "cell_type": "code",
      "metadata": {
        "id": "PQ9xlkM9M2iH",
        "colab": {
          "base_uri": "https://localhost:8080/",
          "height": 383,
          "referenced_widgets": [
            "59ee9033d8714c8cb3cb157b2a9fad79",
            "658fe0c65d924c9bb5a976bbcd720791",
            "b7ffe00b9d42458e843ad640e9487f4a",
            "ed4306d6834d420fb326ca6fb01e74cc",
            "6c7653aa48ee419eaea4ca9e8c443ad3",
            "b53f142fbfb04a66bf4856c9773651c9",
            "2d4409fd6db44488b11302de71cbde17",
            "a5beb76779dc406481fd5d7169baf018",
            "df226a2f848848b99aee12449aa3e187",
            "831c5f4934bb49c08988c7d62783724b",
            "e850d57416cc4a7ca4f8ab61f774382d",
            "02ff2af479d649798a1cbcd92d7e9c6d",
            "32ab8898b81047c5acebaa69a897291c",
            "1258ca09431245929e9ad3a6422954ad",
            "2666efced790438089e2909f5403fbde",
            "1de7adecbe5d4b5c8d17030f65caf04d",
            "763a4b4868d8468292ff3e7fb7191ef6",
            "4c91aa56742047578faee901aff27bf4",
            "49d11706950a423e94218d3b1174925d",
            "683c06c2c2a04f339e108141c4eccbb7",
            "4d70d1dbbab84aa6ae15b3184149cc8f",
            "86e351c10ed64e8a9d5bc055b9de23e6",
            "ff5700c6ceb242a7a4ede3db9ed565d5",
            "b19e5368a637403381957daab15cef73",
            "1814cbca66554c63801acb30d692a88f",
            "5541b54ec93549af8d810a45781788e0",
            "13607f6b9d8e439a998489882bcbe45b",
            "3ebb20a45011482e8cd0c9f6f72ce019",
            "c60a442cbac54bc69cb22717f48ecb82",
            "272d5b47a1e44404883ad2c7a4d69852",
            "b37cfc2af7f14bd9907aaa1edbd31d6f",
            "e7c7b1d060284bb59d43700655d81b56"
          ]
        },
        "outputId": "fa115ed4-81bd-408b-d4ce-4c47ed616c1a"
      },
      "source": [
        "transform_start = transforms.Compose([transforms.ToTensor()\r\n",
        "                                    ,transforms.Normalize((0.5,), (0.5,)),    # todo-1. Try no transform\r\n",
        "                              ])\r\n",
        "\r\n",
        "transform = transforms.Compose([\r\n",
        "        torchvision.transforms.ColorJitter(brightness=0.2, contrast=0.2, saturation=0, hue=0)\r\n",
        "        #,transforms.RandomRotation(2.8)\r\n",
        "        ,torchvision.transforms.RandomAffine(degrees = 20, translate=None, scale=[0.8,1], shear=None, resample=0, fillcolor=0)\r\n",
        "        ,torchvision.transforms.RandomPerspective(distortion_scale=0.5, p=0.5, interpolation=2, fill=0)\r\n",
        "        ,torchvision.transforms.GaussianBlur(3, sigma=(0.1))\r\n",
        "        ,transforms.ToTensor()\r\n",
        "        ,transforms.Normalize((0.5,), (0.5,)),    # todo-1. Try no transform\r\n",
        "        ])\r\n",
        "\r\n",
        "train_dataset = datasets.MNIST(root = './', train = True, download = True, transform = transform)\r\n",
        "test_dataset = datasets.MNIST(root = './', train = False, download = True, transform = transform_start)"
      ],
      "execution_count": 2,
      "outputs": [
        {
          "output_type": "stream",
          "text": [
            "Downloading http://yann.lecun.com/exdb/mnist/train-images-idx3-ubyte.gz to ./MNIST/raw/train-images-idx3-ubyte.gz\n"
          ],
          "name": "stdout"
        },
        {
          "output_type": "display_data",
          "data": {
            "application/vnd.jupyter.widget-view+json": {
              "model_id": "59ee9033d8714c8cb3cb157b2a9fad79",
              "version_minor": 0,
              "version_major": 2
            },
            "text/plain": [
              "HBox(children=(FloatProgress(value=1.0, bar_style='info', max=1.0), HTML(value='')))"
            ]
          },
          "metadata": {
            "tags": []
          }
        },
        {
          "output_type": "stream",
          "text": [
            "Extracting ./MNIST/raw/train-images-idx3-ubyte.gz to ./MNIST/raw\n",
            "Downloading http://yann.lecun.com/exdb/mnist/train-labels-idx1-ubyte.gz to ./MNIST/raw/train-labels-idx1-ubyte.gz\n"
          ],
          "name": "stdout"
        },
        {
          "output_type": "display_data",
          "data": {
            "application/vnd.jupyter.widget-view+json": {
              "model_id": "df226a2f848848b99aee12449aa3e187",
              "version_minor": 0,
              "version_major": 2
            },
            "text/plain": [
              "HBox(children=(FloatProgress(value=1.0, bar_style='info', max=1.0), HTML(value='')))"
            ]
          },
          "metadata": {
            "tags": []
          }
        },
        {
          "output_type": "stream",
          "text": [
            "Extracting ./MNIST/raw/train-labels-idx1-ubyte.gz to ./MNIST/raw\n",
            "Downloading http://yann.lecun.com/exdb/mnist/t10k-images-idx3-ubyte.gz to ./MNIST/raw/t10k-images-idx3-ubyte.gz\n"
          ],
          "name": "stdout"
        },
        {
          "output_type": "display_data",
          "data": {
            "application/vnd.jupyter.widget-view+json": {
              "model_id": "763a4b4868d8468292ff3e7fb7191ef6",
              "version_minor": 0,
              "version_major": 2
            },
            "text/plain": [
              "HBox(children=(FloatProgress(value=1.0, bar_style='info', max=1.0), HTML(value='')))"
            ]
          },
          "metadata": {
            "tags": []
          }
        },
        {
          "output_type": "stream",
          "text": [
            "Extracting ./MNIST/raw/t10k-images-idx3-ubyte.gz to ./MNIST/raw\n",
            "Downloading http://yann.lecun.com/exdb/mnist/t10k-labels-idx1-ubyte.gz to ./MNIST/raw/t10k-labels-idx1-ubyte.gz\n"
          ],
          "name": "stdout"
        },
        {
          "output_type": "display_data",
          "data": {
            "application/vnd.jupyter.widget-view+json": {
              "model_id": "1814cbca66554c63801acb30d692a88f",
              "version_minor": 0,
              "version_major": 2
            },
            "text/plain": [
              "HBox(children=(FloatProgress(value=1.0, bar_style='info', max=1.0), HTML(value='')))"
            ]
          },
          "metadata": {
            "tags": []
          }
        },
        {
          "output_type": "stream",
          "text": [
            "Extracting ./MNIST/raw/t10k-labels-idx1-ubyte.gz to ./MNIST/raw\n",
            "Processing...\n",
            "Done!\n"
          ],
          "name": "stdout"
        },
        {
          "output_type": "stream",
          "text": [
            "/usr/local/lib/python3.6/dist-packages/torchvision/datasets/mnist.py:480: UserWarning: The given NumPy array is not writeable, and PyTorch does not support non-writeable tensors. This means you can write to the underlying (supposedly non-writeable) NumPy array using the tensor. You may want to copy the array to protect its data or make it writeable before converting it to a tensor. This type of warning will be suppressed for the rest of this program. (Triggered internally at  /pytorch/torch/csrc/utils/tensor_numpy.cpp:141.)\n",
            "  return torch.from_numpy(parsed.astype(m[2], copy=False)).view(*s)\n"
          ],
          "name": "stderr"
        }
      ]
    },
    {
      "cell_type": "code",
      "metadata": {
        "colab": {
          "base_uri": "https://localhost:8080/"
        },
        "id": "Pytpmf4ZNUg3",
        "outputId": "af48f5b7-681f-4986-e64d-28d656aa678e"
      },
      "source": [
        "print(f'{train_dataset.data.shape} {test_dataset.data.shape}')"
      ],
      "execution_count": 3,
      "outputs": [
        {
          "output_type": "stream",
          "text": [
            "torch.Size([60000, 28, 28]) torch.Size([10000, 28, 28])\n"
          ],
          "name": "stdout"
        }
      ]
    },
    {
      "cell_type": "code",
      "metadata": {
        "id": "e3zZSWjIOt9R"
      },
      "source": [
        "\r\n",
        "train_dataloader = torch.utils.data.DataLoader(train_dataset, batch_size=64*8, shuffle = True)\r\n",
        "test_dataloader = torch.utils.data.DataLoader(test_dataset, batch_size=64, shuffle=False)"
      ],
      "execution_count": 4,
      "outputs": []
    },
    {
      "cell_type": "code",
      "metadata": {
        "colab": {
          "base_uri": "https://localhost:8080/",
          "height": 588
        },
        "id": "aNOeftZ6tgwr",
        "outputId": "330aae86-c61e-41b5-bf2a-20846a763db8"
      },
      "source": [
        "def show_img(img):\r\n",
        "  plt.figure(figsize=(7,7))\r\n",
        "  npimg=img.numpy()\r\n",
        "  plt.imshow(np.transpose(npimg,(1,2,0)))\r\n",
        "  plt.show()\r\n",
        "\r\n",
        "show_img(torchvision.utils.make_grid(iter(train_dataloader).next()[0][:32]))\r\n",
        "show_img(torchvision.utils.make_grid(iter(test_dataloader).next()[0][:32]))"
      ],
      "execution_count": 5,
      "outputs": [
        {
          "output_type": "stream",
          "text": [
            "\n",
            "\n",
            "\n"
          ],
          "name": "stdout"
        },
        {
          "output_type": "stream",
          "text": [
            "Clipping input data to the valid range for imshow with RGB data ([0..1] for floats or [0..255] for integers).\n"
          ],
          "name": "stderr"
        },
        {
          "output_type": "display_data",
          "data": {
            "image/png": "[encoded data removed]",
            "text/plain": [
              "<Figure size 504x504 with 1 Axes>"
            ]
          },
          "metadata": {
            "tags": [],
            "needs_background": "light"
          }
        },
        {
          "output_type": "stream",
          "text": [
            "Clipping input data to the valid range for imshow with RGB data ([0..1] for floats or [0..255] for integers).\n"
          ],
          "name": "stderr"
        },
        {
          "output_type": "stream",
          "text": [
            "\n"
          ],
          "name": "stdout"
        },
        {
          "output_type": "display_data",
          "data": {
            "image/png": "[encoded data removed]",
            "text/plain": [
              "<Figure size 504x504 with 1 Axes>"
            ]
          },
          "metadata": {
            "tags": [],
            "needs_background": "light"
          }
        }
      ]
    },
    {
      "cell_type": "code",
      "metadata": {
        "colab": {
          "base_uri": "https://localhost:8080/",
          "height": 283
        },
        "id": "z_Eu1x9JR2cN",
        "outputId": "89a47555-9180-4b60-cc34-0481c6fce22c"
      },
      "source": [
        "im, lb = iter(train_dataloader).next()\r\n",
        "plt.imshow(im[0].squeeze(), cmap='gray_r')\r\n",
        "lb[0]"
      ],
      "execution_count": 6,
      "outputs": [
        {
          "output_type": "execute_result",
          "data": {
            "text/plain": [
              "tensor(4)"
            ]
          },
          "metadata": {
            "tags": []
          },
          "execution_count": 6
        },
        {
          "output_type": "display_data",
          "data": {
            "image/png": "[encoded data removed]",
            "text/plain": [
              "<Figure size 432x288 with 1 Axes>"
            ]
          },
          "metadata": {
            "tags": [],
            "needs_background": "light"
          }
        }
      ]
    },
    {
      "cell_type": "code",
      "metadata": {
        "colab": {
          "base_uri": "https://localhost:8080/",
          "height": 63
        },
        "id": "_qLhbUZ6QlfN",
        "outputId": "1f841042-c1f3-472d-cb8b-c71fef042e38"
      },
      "source": [
        "print(im[0].shape)\r\n",
        "PIL.Image.fromarray(np.uint8(im[0].squeeze().numpy() * 255) , 'L')"
      ],
      "execution_count": 7,
      "outputs": [
        {
          "output_type": "stream",
          "text": [
            "torch.Size([1, 28, 28])\n"
          ],
          "name": "stdout"
        },
        {
          "output_type": "execute_result",
          "data": {
            "image/png": "[encoded data removed]",
            "text/plain": [
              "<PIL.Image.Image image mode=L size=28x28 at 0x7FD445178C18>"
            ]
          },
          "metadata": {
            "tags": []
          },
          "execution_count": 7
        }
      ]
    },
    {
      "cell_type": "code",
      "metadata": {
        "id": "fV3DX4wlC3Qg"
      },
      "source": [
        "class Residual(nn.Module):  #@save\r\n",
        "    \"\"\"The Residual block of ResNet.\"\"\"\r\n",
        "    def __init__(self, input_channels, num_channels, use_1x1conv=False, strides=1):\r\n",
        "        super().__init__()\r\n",
        "        self.conv1 = nn.Conv2d(input_channels, num_channels, kernel_size=3, padding=1, stride=strides)\r\n",
        "        self.bn1 = nn.BatchNorm2d(num_channels)\r\n",
        "        self.conv2 = nn.Conv2d(num_channels, num_channels, kernel_size=3, padding=1)\r\n",
        "        self.bn2 = nn.BatchNorm2d(num_channels)\r\n",
        "        if use_1x1conv:\r\n",
        "            self.conv3 = nn.Conv2d(input_channels, num_channels, kernel_size=1, stride=strides)\r\n",
        "        else:\r\n",
        "            self.conv3 = None\r\n",
        "        self.relu = nn.ReLU(inplace=True)\r\n",
        "\r\n",
        "    def forward(self, X):\r\n",
        "        Y = F.relu(self.bn1(self.conv1(X)))\r\n",
        "        Y = self.bn2(self.conv2(Y))\r\n",
        "        if self.conv3:\r\n",
        "            X = self.conv3(X)\r\n",
        "        Y += X\r\n",
        "        return F.relu(Y)"
      ],
      "execution_count": 8,
      "outputs": []
    },
    {
      "cell_type": "code",
      "metadata": {
        "colab": {
          "base_uri": "https://localhost:8080/"
        },
        "id": "eyeQ3OK1Ppul",
        "outputId": "a3c0dd3a-3608-4673-d88b-5a8d36b1d1fe"
      },
      "source": [
        "class ModelNet(nn.Module):\r\n",
        "  def __init__(self):\r\n",
        "    super(ModelNet, self).__init__()\r\n",
        "    self.conv1 = nn.Conv2d(in_channels=1,  out_channels=16, kernel_size=3, stride=1, padding=0)\r\n",
        "    self.conv2 = nn.Conv2d(in_channels=16,  out_channels=32, kernel_size=3, stride=1, padding=0)\r\n",
        "    self.res11 = Residual(32, 32, use_1x1conv = False)\r\n",
        "    self.res12 = Residual(32, 32, use_1x1conv = False)\r\n",
        "    self.res13 = Residual(32, 32, use_1x1conv = False)\r\n",
        "    self.res2 = Residual(32, 32, use_1x1conv = True, strides=2)\r\n",
        "    self.res3 = Residual(32, 32, use_1x1conv = True, strides=2)\r\n",
        "    self.res4 = Residual(32, 32, use_1x1conv = True, strides=2)\r\n",
        "    self.conv3 = nn.Conv2d(32, 128, kernel_size=3, padding=0, stride=1)\r\n",
        "    self.Lin = nn.Linear(128, 10) \r\n",
        "\r\n",
        "  def forward(self, x):\r\n",
        "    x = F.relu(self.conv1(x))\r\n",
        "    x = F.relu(self.conv2(x))\r\n",
        "    x = self.res11(x)\r\n",
        "    x = self.res12(x)\r\n",
        "    x = self.res13(x)\r\n",
        "    x = self.res2(x)\r\n",
        "    x = self.res3(x)\r\n",
        "    x = self.res4(x)\r\n",
        "    x = F.relu(self.conv3(x))\r\n",
        "    x = torch.squeeze(x, 3)\r\n",
        "    x = torch.squeeze(x, 2)\r\n",
        "    x =  self.Lin(x)\r\n",
        "    return x\r\n",
        "\r\n",
        "\r\n",
        "X = torch.rand(4, 1, 28, 28)\r\n",
        "model = ModelNet()\r\n",
        "print(model(X).shape)\r\n",
        "del model"
      ],
      "execution_count": 24,
      "outputs": [
        {
          "output_type": "stream",
          "text": [
            "torch.Size([4, 10])\n"
          ],
          "name": "stdout"
        }
      ]
    },
    {
      "cell_type": "code",
      "metadata": {
        "colab": {
          "base_uri": "https://localhost:8080/"
        },
        "id": "v3pIQ0YpLQWv",
        "outputId": "1c4326b0-e038-4d15-849b-49f2373c8195"
      },
      "source": [
        "def print_net_layers_shapes(model, X): \r\n",
        "  print(f'Input shape: {X.shape}') \r\n",
        "  #print(f'Output shape: {model(X).shape}') \r\n",
        "  print(f\"Кол-во обучаемых параметров {sum(p.numel() for p in model.parameters() if p.requires_grad):,}\") \r\n",
        " \r\n",
        "  for i,layer in enumerate(model.modules()):   \r\n",
        "    layer_name = layer.__class__.__name__ \r\n",
        "    if sum(1 for x in layer.children()) > 0:  \r\n",
        "      print(f'Net name: {layer_name}') \r\n",
        "      continue # skip top level Network  \r\n",
        "    if 'Conv2d' in layer_name and layer.kernel_size == (1,1): # use_1x1conv in Residual\r\n",
        "      continue\r\n",
        "    if 'Linear' in layer_name:  \r\n",
        "      X = X.view(X.size(0), -1)\r\n",
        "    X = layer(X)   \r\n",
        "    print(layer_name.rjust(18),'output shape: ', X.shape) \r\n",
        " \r\n",
        "tmp_model = ModelNet() \r\n",
        "X = torch.rand(size=(2, 1, 28, 28))\r\n",
        "print_net_layers_shapes(tmp_model, X) #X = torch.rand(size=(2, 3, 141, 141))  \r\n",
        "\r\n",
        "del tmp_model "
      ],
      "execution_count": 25,
      "outputs": [
        {
          "output_type": "stream",
          "text": [
            "Input shape: torch.Size([2, 1, 28, 28])\n",
            "Кол-во обучаемых параметров 157,994\n",
            "Net name: ModelNet\n",
            "            Conv2d output shape:  torch.Size([2, 16, 26, 26])\n",
            "            Conv2d output shape:  torch.Size([2, 32, 24, 24])\n",
            "Net name: Residual\n",
            "            Conv2d output shape:  torch.Size([2, 32, 24, 24])\n",
            "       BatchNorm2d output shape:  torch.Size([2, 32, 24, 24])\n",
            "            Conv2d output shape:  torch.Size([2, 32, 24, 24])\n",
            "       BatchNorm2d output shape:  torch.Size([2, 32, 24, 24])\n",
            "              ReLU output shape:  torch.Size([2, 32, 24, 24])\n",
            "Net name: Residual\n",
            "            Conv2d output shape:  torch.Size([2, 32, 24, 24])\n",
            "       BatchNorm2d output shape:  torch.Size([2, 32, 24, 24])\n",
            "            Conv2d output shape:  torch.Size([2, 32, 24, 24])\n",
            "       BatchNorm2d output shape:  torch.Size([2, 32, 24, 24])\n",
            "              ReLU output shape:  torch.Size([2, 32, 24, 24])\n",
            "Net name: Residual\n",
            "            Conv2d output shape:  torch.Size([2, 32, 24, 24])\n",
            "       BatchNorm2d output shape:  torch.Size([2, 32, 24, 24])\n",
            "            Conv2d output shape:  torch.Size([2, 32, 24, 24])\n",
            "       BatchNorm2d output shape:  torch.Size([2, 32, 24, 24])\n",
            "              ReLU output shape:  torch.Size([2, 32, 24, 24])\n",
            "Net name: Residual\n",
            "            Conv2d output shape:  torch.Size([2, 32, 12, 12])\n",
            "       BatchNorm2d output shape:  torch.Size([2, 32, 12, 12])\n",
            "            Conv2d output shape:  torch.Size([2, 32, 12, 12])\n",
            "       BatchNorm2d output shape:  torch.Size([2, 32, 12, 12])\n",
            "              ReLU output shape:  torch.Size([2, 32, 12, 12])\n",
            "Net name: Residual\n",
            "            Conv2d output shape:  torch.Size([2, 32, 6, 6])\n",
            "       BatchNorm2d output shape:  torch.Size([2, 32, 6, 6])\n",
            "            Conv2d output shape:  torch.Size([2, 32, 6, 6])\n",
            "       BatchNorm2d output shape:  torch.Size([2, 32, 6, 6])\n",
            "              ReLU output shape:  torch.Size([2, 32, 6, 6])\n",
            "Net name: Residual\n",
            "            Conv2d output shape:  torch.Size([2, 32, 3, 3])\n",
            "       BatchNorm2d output shape:  torch.Size([2, 32, 3, 3])\n",
            "            Conv2d output shape:  torch.Size([2, 32, 3, 3])\n",
            "       BatchNorm2d output shape:  torch.Size([2, 32, 3, 3])\n",
            "              ReLU output shape:  torch.Size([2, 32, 3, 3])\n",
            "            Conv2d output shape:  torch.Size([2, 128, 1, 1])\n",
            "            Linear output shape:  torch.Size([2, 10])\n"
          ],
          "name": "stdout"
        }
      ]
    },
    {
      "cell_type": "code",
      "metadata": {
        "id": "GThWZiPoAuVQ"
      },
      "source": [
        "def get_all_preds(net, loader):\r\n",
        "    all_preds = torch.tensor([])\r\n",
        "    all_labels = torch.tensor([])\r\n",
        "    for images, labels in loader:\r\n",
        "        images = images.to(cuda_device)\r\n",
        "        preds = net(images)\r\n",
        "        all_preds = torch.cat(\r\n",
        "            (all_preds, preds.to('cpu').argmax(dim=1))\r\n",
        "            ,dim=0\r\n",
        "        )\r\n",
        "        all_labels = torch.cat(\r\n",
        "            (all_labels, labels)\r\n",
        "            ,dim=0\r\n",
        "        )\r\n",
        "    return all_labels, all_preds"
      ],
      "execution_count": 27,
      "outputs": []
    },
    {
      "cell_type": "code",
      "metadata": {
        "id": "u2lU6GS8GbHw"
      },
      "source": [
        "import itertools\r\n",
        "import numpy as np\r\n",
        "import matplotlib.pyplot as plt\r\n",
        "\r\n",
        "def plot_confusion_matrix(cm, classes, normalize=False, title='Confusion matrix', cmap=plt.cm.Blues):\r\n",
        "    if normalize:\r\n",
        "        cm = cm.astype('float') / cm.sum(axis=1)[:, np.newaxis]\r\n",
        "        print(\"Normalized confusion matrix\")\r\n",
        "    else:\r\n",
        "        print('Confusion matrix, without normalization')\r\n",
        "\r\n",
        "    print(cm)\r\n",
        "    plt.imshow(cm, interpolation='nearest', cmap=cmap)\r\n",
        "    plt.title(title)\r\n",
        "    plt.colorbar()\r\n",
        "    tick_marks = np.arange(len(classes))\r\n",
        "    plt.xticks(tick_marks, classes, rotation=45)\r\n",
        "    plt.yticks(tick_marks, classes)\r\n",
        "\r\n",
        "    fmt = '.2f' if normalize else 'd'\r\n",
        "    thresh = cm.max() / 2.\r\n",
        "    for i, j in itertools.product(range(cm.shape[0]), range(cm.shape[1])):\r\n",
        "        plt.text(j, i, format(cm[i, j], fmt), horizontalalignment=\"center\", color=\"white\" if cm[i, j] > thresh else \"black\")\r\n",
        "\r\n",
        "    plt.tight_layout()\r\n",
        "    plt.ylabel('True label')\r\n",
        "    plt.xlabel('Predicted label')"
      ],
      "execution_count": 28,
      "outputs": []
    },
    {
      "cell_type": "code",
      "metadata": {
        "id": "vAgyg88s6ibm"
      },
      "source": [
        "from sklearn.metrics import ConfusionMatrixDisplay\r\n",
        "import matplotlib.pyplot as plt\r\n",
        "from matplotlib.pyplot import figure\r\n",
        "\r\n",
        "def get_test_statistics(net, test_dataloader):\r\n",
        "  test_labels, test_preds = get_all_preds(net, test_dataloader)\r\n",
        "\r\n",
        "  confusion_matrix = torch.zeros(10, 10, dtype=torch.int64)\r\n",
        "  stacked = torch.stack(\r\n",
        "      (test_labels,test_preds)\r\n",
        "      ,dim=1\r\n",
        "  )\r\n",
        "  alln = len(test_labels)\r\n",
        "  correctn = 0\r\n",
        "  error_indx = []\r\n",
        "  for i, p in enumerate(stacked):\r\n",
        "      tl, pl = map(int, p)\r\n",
        "      correct = tl == pl\r\n",
        "      if correct:\r\n",
        "        correctn += 1\r\n",
        "      else:\r\n",
        "        error_indx.append(i)\r\n",
        "      confusion_matrix[tl, pl] += 1\r\n",
        "  accuracy = correctn/alln\r\n",
        "  return accuracy, confusion_matrix, error_indx\r\n",
        "\r\n",
        "def show_confusion_matrix(conf_matrix):\r\n",
        "  display_labels=[str(i) for i in range(10)]\r\n",
        "  disp = ConfusionMatrixDisplay(confusion_matrix=conf_matrix,\r\n",
        "                              display_labels=display_labels)\r\n",
        "  \r\n",
        "  #figure(figsize=(8, 6)\r\n",
        "  fig = plt.figure(figsize=(7, 7))\r\n",
        "  ax = fig.add_subplot(111)\r\n",
        "  print(f'accuracy = {accuracy}')\r\n",
        "  disp.plot(values_format = '', ax = ax) "
      ],
      "execution_count": 29,
      "outputs": []
    },
    {
      "cell_type": "code",
      "metadata": {
        "id": "WL1K5jrUw58e"
      },
      "source": [
        "def show_error_imgs(error_indx, test_dataloader):\r\n",
        "  s = set(error_indx)\r\n",
        "  \r\n",
        "  error_ims = []\r\n",
        "  error_labs = []\r\n",
        "  for i, (ims, lab) in enumerate(test_dataloader):\r\n",
        "    for j, im  in enumerate(ims):\r\n",
        "      if i*64+j in s:\r\n",
        "        error_ims.append(im)\r\n",
        "        error_labs.append(lab[j].item())\r\n",
        "\r\n",
        "  show_img(torchvision.utils.make_grid(error_ims[:64]))\r\n",
        "  for i in range(8):\r\n",
        "    print(error_labs[0+i*8:8+i*8])"
      ],
      "execution_count": 33,
      "outputs": []
    },
    {
      "cell_type": "code",
      "metadata": {
        "id": "xjcSirXeZ3CV"
      },
      "source": [
        "cuda_device = torch.device('cuda' if torch.cuda.is_available() else 'cpu')\r\n",
        "net = ModelNet().to(device=cuda_device)\r\n",
        "criterion = nn.CrossEntropyLoss()"
      ],
      "execution_count": 30,
      "outputs": []
    },
    {
      "cell_type": "code",
      "metadata": {
        "id": "k2XbE2bOSI-o"
      },
      "source": [
        "#optimizer = optim.Adam(net.parameters(), lr=0.0001)  # start learning with Adam, continue with SGD\r\n",
        "optimizer = optim.SGD(net.parameters(), lr=0.0001)\r\n",
        "#scheduler = torch.optim.lr_scheduler.ReduceLROnPlateau(optimizer, 'min', factor=0.1, patience=1,threshold =1e-2, verbose=True)\r\n"
      ],
      "execution_count": 39,
      "outputs": []
    },
    {
      "cell_type": "code",
      "metadata": {
        "colab": {
          "base_uri": "https://localhost:8080/",
          "height": 1000
        },
        "id": "wy6UiQlOQyVU",
        "outputId": "4a848662-dd81-4ee9-ec07-7938c934dc9c"
      },
      "source": [
        "from tqdm import tqdm\r\n",
        "for epoch in range(20):\r\n",
        "  total_loss = 0\r\n",
        "  iterations = len(train_dataloader)\r\n",
        "  for iteration, (X, labels) in tqdm(enumerate(train_dataloader)):\r\n",
        "    net.train()\r\n",
        "    X, labels = X.to(device=cuda_device), labels.to(device=cuda_device)\r\n",
        "    optimizer.zero_grad()\r\n",
        "    y = net(X)\r\n",
        "    loss = criterion(y,labels)\r\n",
        "    loss.backward()\r\n",
        "    optimizer.step()\r\n",
        "    total_loss += loss.item()\r\n",
        "\r\n",
        "  print(f'{iteration}.  total_loss = {total_loss}')\r\n",
        "  accuracy, conf_matrix, error_indx = get_test_statistics(net, test_dataloader)\r\n",
        "  print(f'accuracy = {accuracy}')\r\n",
        "  print()\r\n",
        "\r\n",
        "show_confusion_matrix(conf_matrix)\r\n",
        "show_error_imgs(error_indx, test_dataloader)"
      ],
      "execution_count": 40,
      "outputs": [
        {
          "output_type": "stream",
          "text": [
            "118it [01:25,  1.38it/s]\n"
          ],
          "name": "stderr"
        },
        {
          "output_type": "stream",
          "text": [
            "117.  total_loss = 4.230894601903856\n"
          ],
          "name": "stdout"
        },
        {
          "output_type": "stream",
          "text": [
            "\r0it [00:00, ?it/s]"
          ],
          "name": "stderr"
        },
        {
          "output_type": "stream",
          "text": [
            "accuracy = 0.9953\n",
            "\n"
          ],
          "name": "stdout"
        },
        {
          "output_type": "stream",
          "text": [
            "118it [01:24,  1.40it/s]\n"
          ],
          "name": "stderr"
        },
        {
          "output_type": "stream",
          "text": [
            "117.  total_loss = 4.144985121674836\n"
          ],
          "name": "stdout"
        },
        {
          "output_type": "stream",
          "text": [
            "\r0it [00:00, ?it/s]"
          ],
          "name": "stderr"
        },
        {
          "output_type": "stream",
          "text": [
            "accuracy = 0.9953\n",
            "\n"
          ],
          "name": "stdout"
        },
        {
          "output_type": "stream",
          "text": [
            "118it [01:24,  1.40it/s]\n"
          ],
          "name": "stderr"
        },
        {
          "output_type": "stream",
          "text": [
            "117.  total_loss = 4.540871299803257\n"
          ],
          "name": "stdout"
        },
        {
          "output_type": "stream",
          "text": [
            "\r0it [00:00, ?it/s]"
          ],
          "name": "stderr"
        },
        {
          "output_type": "stream",
          "text": [
            "accuracy = 0.9953\n",
            "\n"
          ],
          "name": "stdout"
        },
        {
          "output_type": "stream",
          "text": [
            "118it [01:25,  1.38it/s]\n"
          ],
          "name": "stderr"
        },
        {
          "output_type": "stream",
          "text": [
            "117.  total_loss = 4.1000323528423905\n"
          ],
          "name": "stdout"
        },
        {
          "output_type": "stream",
          "text": [
            "\r0it [00:00, ?it/s]"
          ],
          "name": "stderr"
        },
        {
          "output_type": "stream",
          "text": [
            "accuracy = 0.9953\n",
            "\n"
          ],
          "name": "stdout"
        },
        {
          "output_type": "stream",
          "text": [
            "118it [01:25,  1.38it/s]\n"
          ],
          "name": "stderr"
        },
        {
          "output_type": "stream",
          "text": [
            "117.  total_loss = 4.138222549576312\n"
          ],
          "name": "stdout"
        },
        {
          "output_type": "stream",
          "text": [
            "\r0it [00:00, ?it/s]"
          ],
          "name": "stderr"
        },
        {
          "output_type": "stream",
          "text": [
            "accuracy = 0.9953\n",
            "\n"
          ],
          "name": "stdout"
        },
        {
          "output_type": "stream",
          "text": [
            "118it [01:25,  1.38it/s]\n"
          ],
          "name": "stderr"
        },
        {
          "output_type": "stream",
          "text": [
            "117.  total_loss = 4.227817375212908\n"
          ],
          "name": "stdout"
        },
        {
          "output_type": "stream",
          "text": [
            "\r0it [00:00, ?it/s]"
          ],
          "name": "stderr"
        },
        {
          "output_type": "stream",
          "text": [
            "accuracy = 0.9953\n",
            "\n"
          ],
          "name": "stdout"
        },
        {
          "output_type": "stream",
          "text": [
            "118it [01:25,  1.37it/s]\n"
          ],
          "name": "stderr"
        },
        {
          "output_type": "stream",
          "text": [
            "117.  total_loss = 4.330952130258083\n"
          ],
          "name": "stdout"
        },
        {
          "output_type": "stream",
          "text": [
            "\r0it [00:00, ?it/s]"
          ],
          "name": "stderr"
        },
        {
          "output_type": "stream",
          "text": [
            "accuracy = 0.9952\n",
            "\n"
          ],
          "name": "stdout"
        },
        {
          "output_type": "stream",
          "text": [
            "118it [01:25,  1.39it/s]\n"
          ],
          "name": "stderr"
        },
        {
          "output_type": "stream",
          "text": [
            "117.  total_loss = 4.270304815843701\n"
          ],
          "name": "stdout"
        },
        {
          "output_type": "stream",
          "text": [
            "\r0it [00:00, ?it/s]"
          ],
          "name": "stderr"
        },
        {
          "output_type": "stream",
          "text": [
            "accuracy = 0.9951\n",
            "\n"
          ],
          "name": "stdout"
        },
        {
          "output_type": "stream",
          "text": [
            "118it [01:24,  1.40it/s]\n"
          ],
          "name": "stderr"
        },
        {
          "output_type": "stream",
          "text": [
            "117.  total_loss = 4.099488480016589\n"
          ],
          "name": "stdout"
        },
        {
          "output_type": "stream",
          "text": [
            "\r0it [00:00, ?it/s]"
          ],
          "name": "stderr"
        },
        {
          "output_type": "stream",
          "text": [
            "accuracy = 0.9951\n",
            "\n"
          ],
          "name": "stdout"
        },
        {
          "output_type": "stream",
          "text": [
            "118it [01:23,  1.42it/s]\n"
          ],
          "name": "stderr"
        },
        {
          "output_type": "stream",
          "text": [
            "117.  total_loss = 4.327960949391127\n"
          ],
          "name": "stdout"
        },
        {
          "output_type": "stream",
          "text": [
            "\r0it [00:00, ?it/s]"
          ],
          "name": "stderr"
        },
        {
          "output_type": "stream",
          "text": [
            "accuracy = 0.9952\n",
            "\n"
          ],
          "name": "stdout"
        },
        {
          "output_type": "stream",
          "text": [
            "118it [01:23,  1.41it/s]\n"
          ],
          "name": "stderr"
        },
        {
          "output_type": "stream",
          "text": [
            "117.  total_loss = 4.055626325309277\n"
          ],
          "name": "stdout"
        },
        {
          "output_type": "stream",
          "text": [
            "\r0it [00:00, ?it/s]"
          ],
          "name": "stderr"
        },
        {
          "output_type": "stream",
          "text": [
            "accuracy = 0.9951\n",
            "\n"
          ],
          "name": "stdout"
        },
        {
          "output_type": "stream",
          "text": [
            "118it [01:22,  1.43it/s]\n"
          ],
          "name": "stderr"
        },
        {
          "output_type": "stream",
          "text": [
            "117.  total_loss = 4.07886104285717\n"
          ],
          "name": "stdout"
        },
        {
          "output_type": "stream",
          "text": [
            "\r0it [00:00, ?it/s]"
          ],
          "name": "stderr"
        },
        {
          "output_type": "stream",
          "text": [
            "accuracy = 0.9951\n",
            "\n"
          ],
          "name": "stdout"
        },
        {
          "output_type": "stream",
          "text": [
            "118it [01:23,  1.42it/s]\n"
          ],
          "name": "stderr"
        },
        {
          "output_type": "stream",
          "text": [
            "117.  total_loss = 4.036300223320723\n"
          ],
          "name": "stdout"
        },
        {
          "output_type": "stream",
          "text": [
            "\r0it [00:00, ?it/s]"
          ],
          "name": "stderr"
        },
        {
          "output_type": "stream",
          "text": [
            "accuracy = 0.9951\n",
            "\n"
          ],
          "name": "stdout"
        },
        {
          "output_type": "stream",
          "text": [
            "118it [01:22,  1.42it/s]\n"
          ],
          "name": "stderr"
        },
        {
          "output_type": "stream",
          "text": [
            "117.  total_loss = 4.223599441349506\n"
          ],
          "name": "stdout"
        },
        {
          "output_type": "stream",
          "text": [
            "\r0it [00:00, ?it/s]"
          ],
          "name": "stderr"
        },
        {
          "output_type": "stream",
          "text": [
            "accuracy = 0.995\n",
            "\n"
          ],
          "name": "stdout"
        },
        {
          "output_type": "stream",
          "text": [
            "118it [01:23,  1.42it/s]\n"
          ],
          "name": "stderr"
        },
        {
          "output_type": "stream",
          "text": [
            "117.  total_loss = 4.479768653400242\n"
          ],
          "name": "stdout"
        },
        {
          "output_type": "stream",
          "text": [
            "\r0it [00:00, ?it/s]"
          ],
          "name": "stderr"
        },
        {
          "output_type": "stream",
          "text": [
            "accuracy = 0.995\n",
            "\n"
          ],
          "name": "stdout"
        },
        {
          "output_type": "stream",
          "text": [
            "118it [01:23,  1.42it/s]\n"
          ],
          "name": "stderr"
        },
        {
          "output_type": "stream",
          "text": [
            "117.  total_loss = 4.243279218673706\n"
          ],
          "name": "stdout"
        },
        {
          "output_type": "stream",
          "text": [
            "\r0it [00:00, ?it/s]"
          ],
          "name": "stderr"
        },
        {
          "output_type": "stream",
          "text": [
            "accuracy = 0.9951\n",
            "\n"
          ],
          "name": "stdout"
        },
        {
          "output_type": "stream",
          "text": [
            "118it [01:22,  1.42it/s]\n"
          ],
          "name": "stderr"
        },
        {
          "output_type": "stream",
          "text": [
            "117.  total_loss = 4.189020186662674\n"
          ],
          "name": "stdout"
        },
        {
          "output_type": "stream",
          "text": [
            "\r0it [00:00, ?it/s]"
          ],
          "name": "stderr"
        },
        {
          "output_type": "stream",
          "text": [
            "accuracy = 0.9951\n",
            "\n"
          ],
          "name": "stdout"
        },
        {
          "output_type": "stream",
          "text": [
            "118it [01:23,  1.41it/s]\n"
          ],
          "name": "stderr"
        },
        {
          "output_type": "stream",
          "text": [
            "117.  total_loss = 4.178586371243\n"
          ],
          "name": "stdout"
        },
        {
          "output_type": "stream",
          "text": [
            "\r0it [00:00, ?it/s]"
          ],
          "name": "stderr"
        },
        {
          "output_type": "stream",
          "text": [
            "accuracy = 0.9951\n",
            "\n"
          ],
          "name": "stdout"
        },
        {
          "output_type": "stream",
          "text": [
            "118it [01:25,  1.38it/s]\n"
          ],
          "name": "stderr"
        },
        {
          "output_type": "stream",
          "text": [
            "117.  total_loss = 4.114887411240488\n"
          ],
          "name": "stdout"
        },
        {
          "output_type": "stream",
          "text": [
            "\r0it [00:00, ?it/s]"
          ],
          "name": "stderr"
        },
        {
          "output_type": "stream",
          "text": [
            "accuracy = 0.995\n",
            "\n"
          ],
          "name": "stdout"
        },
        {
          "output_type": "stream",
          "text": [
            "118it [01:26,  1.36it/s]\n"
          ],
          "name": "stderr"
        },
        {
          "output_type": "stream",
          "text": [
            "117.  total_loss = 4.295829098671675\n",
            "accuracy = 0.9952\n",
            "\n",
            "accuracy = 0.9952\n"
          ],
          "name": "stdout"
        },
        {
          "output_type": "stream",
          "text": [
            "Clipping input data to the valid range for imshow with RGB data ([0..1] for floats or [0..255] for integers).\n"
          ],
          "name": "stderr"
        },
        {
          "output_type": "display_data",
          "data": {
            "image/png": "[encoded data removed]",
            "text/plain": [
              "<Figure size 504x504 with 2 Axes>"
            ]
          },
          "metadata": {
            "tags": [],
            "needs_background": "light"
          }
        },
        {
          "output_type": "display_data",
          "data": {
            "image/png": "[encoded data removed]",
            "text/plain": [
              "<Figure size 504x504 with 1 Axes>"
            ]
          },
          "metadata": {
            "tags": [],
            "needs_background": "light"
          }
        },
        {
          "output_type": "stream",
          "text": [
            "[4, 4, 8, 9, 6, 3, 8, 6]\n",
            "[1, 4, 7, 9, 5, 0, 2, 9]\n",
            "[8, 9, 1, 5, 5, 4, 1, 9]\n",
            "[3, 6, 2, 6, 9, 1, 0, 1]\n",
            "[2, 1, 9, 3, 4, 7, 0, 8]\n",
            "[1, 4, 7, 1, 6, 1, 2, 5]\n",
            "[]\n",
            "[]\n"
          ],
          "name": "stdout"
        }
      ]
    }
  ]
}